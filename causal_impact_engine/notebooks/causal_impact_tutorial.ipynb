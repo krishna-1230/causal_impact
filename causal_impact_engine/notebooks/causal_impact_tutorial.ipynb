{
  "cells": [
    {
      "cell_type": "code",
      "execution_count": null,
      "metadata": {
        "vscode": {
          "languageId": "plaintext"
        }
      },
      "outputs": [],
      "source": [
        "# Causal Impact Analysis Tutorial\n",
        "\n",
        "This notebook demonstrates how to use the Causal Impact Engine to analyze the causal effect of an intervention (like a marketing campaign) on a target metric (like sales).\n",
        "\n",
        "## What is Causal Impact Analysis?\n",
        "\n",
        "Causal Impact Analysis is a statistical method for estimating the causal effect of an intervention on a time series. It uses a Bayesian structural time series model to predict what would have happened if the intervention had not occurred (the \"counterfactual\"), and then compares this prediction to what actually happened.\n",
        "\n",
        "This approach helps answer questions like:\n",
        "- Did our marketing campaign cause an increase in sales?\n",
        "- What would our sales have been if we hadn't run the campaign?\n",
        "- How much of the observed change can be attributed to the campaign?\n"
      ]
    },
    {
      "cell_type": "code",
      "execution_count": null,
      "metadata": {},
      "outputs": [],
      "source": [
        "# Import necessary libraries\n",
        "import sys\n",
        "import os\n",
        "from pathlib import Path\n",
        "\n",
        "# Add the parent directory to the path to import the package\n",
        "sys.path.insert(0, str(Path().resolve().parent.parent))\n",
        "\n",
        "# Import the causal impact engine\n",
        "import pandas as pd\n",
        "import numpy as np\n",
        "import matplotlib.pyplot as plt\n",
        "import seaborn as sns\n",
        "\n",
        "from causal_impact_engine.data.sample_data import SampleData\n",
        "from causal_impact_engine.models.model_factory import ModelFactory\n",
        "from causal_impact_engine.utils.metrics import CausalImpactMetrics\n",
        "from causal_impact_engine.utils.reporting import CausalImpactReporter\n",
        "from causal_impact_engine.utils.visualization import CausalImpactVisualizer\n",
        "\n",
        "# Set plot style\n",
        "plt.style.use('seaborn-v0_8-whitegrid')\n",
        "sns.set_palette(\"deep\")\n",
        "plt.rcParams['figure.figsize'] = [12, 6]\n",
        "plt.rcParams['figure.dpi'] = 100\n"
      ]
    },
    {
      "cell_type": "code",
      "execution_count": null,
      "metadata": {},
      "outputs": [],
      "source": [
        "## Generate Sample Marketing Campaign Data\n",
        "\n",
        "Let's generate some sample data for a marketing campaign. This data will include:\n",
        "- Daily sales data\n",
        "- Web traffic data\n",
        "- Ad spend data\n",
        "- Campaign indicator (0 before campaign, 1 during campaign)\n",
        "\n",
        "We'll simulate a campaign that started on April 1, 2022 and ran until the end of June 2022.\n"
      ]
    },
    {
      "cell_type": "code",
      "execution_count": null,
      "metadata": {},
      "outputs": [],
      "source": [
        "# Generate sample marketing campaign data\n",
        "data = SampleData.get_marketing_campaign_data(random_seed=42)\n",
        "\n",
        "# Display the first few rows\n",
        "print(\"Sample data shape:\", data.shape)\n",
        "data.head()\n"
      ]
    },
    {
      "cell_type": "code",
      "execution_count": null,
      "metadata": {},
      "outputs": [],
      "source": [
        "# Let's visualize the data\n",
        "fig = CausalImpactVisualizer.plot_time_series(\n",
        "    data=data,\n",
        "    date_col=\"date\",\n",
        "    target_col=\"sales\",\n",
        "    intervention_date=\"2022-04-01\",\n",
        "    title=\"Marketing Campaign Data: Sales Over Time\"\n",
        ")\n",
        "\n",
        "plt.show()\n"
      ]
    },
    {
      "cell_type": "code",
      "execution_count": null,
      "metadata": {},
      "outputs": [],
      "source": [
        "# Let's also look at the covariates\n",
        "fig, axes = plt.subplots(2, 1, figsize=(12, 8), sharex=True)\n",
        "\n",
        "# Plot web traffic\n",
        "data.plot(x=\"date\", y=\"web_traffic\", ax=axes[0], label=\"Web Traffic\")\n",
        "axes[0].axvline(pd.to_datetime(\"2022-04-01\"), color=\"r\", linestyle=\"--\", label=\"Campaign Start\")\n",
        "axes[0].set_title(\"Web Traffic Over Time\")\n",
        "axes[0].legend()\n",
        "\n",
        "# Plot ad spend\n",
        "data.plot(x=\"date\", y=\"ad_spend\", ax=axes[1], label=\"Ad Spend\")\n",
        "axes[1].axvline(pd.to_datetime(\"2022-04-01\"), color=\"r\", linestyle=\"--\", label=\"Campaign Start\")\n",
        "axes[1].set_title(\"Ad Spend Over Time\")\n",
        "axes[1].legend()\n",
        "\n",
        "plt.tight_layout()\n",
        "plt.show()\n"
      ]
    },
    {
      "cell_type": "code",
      "execution_count": null,
      "metadata": {},
      "outputs": [],
      "source": [
        "## Running Causal Impact Analysis\n",
        "\n",
        "Now let's run the causal impact analysis to determine if the marketing campaign had a causal effect on sales.\n",
        "\n",
        "We'll define the pre-intervention period (before the campaign) and the post-intervention period (during the campaign), and then run the analysis using the Google CausalImpact model.\n"
      ]
    },
    {
      "cell_type": "code",
      "execution_count": null,
      "metadata": {},
      "outputs": [],
      "source": [
        "# Define pre and post-intervention periods\n",
        "pre_period = [\"2022-01-01\", \"2022-03-31\"]\n",
        "post_period = [\"2022-04-01\", \"2022-06-30\"]\n",
        "\n",
        "# Create and run the model\n",
        "model = ModelFactory.create_model(\n",
        "    model_type=\"causalimpact\",\n",
        "    data=data,\n",
        "    pre_period=pre_period,\n",
        "    post_period=post_period,\n",
        "    target_col=\"sales\",\n",
        "    date_col=\"date\",\n",
        "    covariates=[\"web_traffic\", \"ad_spend\"]\n",
        ")\n",
        "\n",
        "# Run inference\n",
        "model.run_inference()\n",
        "\n",
        "# Get summary\n",
        "summary = model.get_summary()\n",
        "\n",
        "# Print key results\n",
        "print(f\"Relative Effect: {summary['relative_effect'] * 100:.2f}%\")\n",
        "print(f\"Absolute Effect: {summary['average_effect']:.2f}\")\n",
        "print(f\"Cumulative Effect: {summary['cumulative_effect']:.2f}\")\n",
        "print(f\"p-value: {summary['p_value']:.4f}\")\n",
        "print(f\"Statistically Significant: {summary['p_value'] < 0.05}\")\n",
        "\n",
        "# Plot results\n",
        "fig = model.plot_results()\n",
        "plt.show()\n"
      ]
    },
    {
      "cell_type": "code",
      "execution_count": null,
      "metadata": {},
      "outputs": [],
      "source": [
        "## Generating Reports\n",
        "\n",
        "Let's generate some reports to summarize the results of our analysis.\n"
      ]
    },
    {
      "cell_type": "code",
      "execution_count": null,
      "metadata": {},
      "outputs": [],
      "source": [
        "# Get predictions\n",
        "predictions = model.predict()\n",
        "\n",
        "# Calculate metrics\n",
        "metrics = CausalImpactMetrics.calculate_all_metrics(\n",
        "    data=predictions,\n",
        "    target_col=\"sales\",\n",
        "    prediction_col=\"prediction\",\n",
        "    intervention_col=\"campaign\"\n",
        ")\n",
        "\n",
        "# Generate executive summary\n",
        "executive_summary = CausalImpactReporter.generate_executive_summary(\n",
        "    model_results=summary,\n",
        "    intervention_name=\"marketing campaign\",\n",
        "    target_name=\"sales\"\n",
        ")\n",
        "\n",
        "print(executive_summary)\n"
      ]
    },
    {
      "cell_type": "code",
      "execution_count": null,
      "metadata": {},
      "outputs": [],
      "source": [
        "# Generate technical report\n",
        "technical_report = CausalImpactReporter.generate_technical_report(\n",
        "    data=predictions,\n",
        "    target_col=\"sales\",\n",
        "    prediction_col=\"prediction\",\n",
        "    intervention_col=\"campaign\"\n",
        ")\n",
        "\n",
        "print(technical_report)\n"
      ]
    },
    {
      "cell_type": "code",
      "execution_count": null,
      "metadata": {},
      "outputs": [],
      "source": [
        "## Interactive Visualization\n",
        "\n",
        "Let's create an interactive visualization of the results.\n"
      ]
    },
    {
      "cell_type": "code",
      "execution_count": null,
      "metadata": {},
      "outputs": [],
      "source": [
        "# Create interactive plot\n",
        "interactive_plot = CausalImpactVisualizer.create_interactive_plot(\n",
        "    data=predictions,\n",
        "    date_col=\"date\",\n",
        "    target_col=\"sales\",\n",
        "    counterfactual_col=\"prediction\",\n",
        "    lower_col=\"prediction_lower\",\n",
        "    upper_col=\"prediction_upper\",\n",
        "    effect_col=\"effect\",\n",
        "    intervention_date=\"2022-04-01\",\n",
        "    title=\"Marketing Campaign Causal Impact Analysis\"\n",
        ")\n",
        "\n",
        "# Display the interactive plot\n",
        "interactive_plot\n"
      ]
    },
    {
      "cell_type": "code",
      "execution_count": null,
      "metadata": {},
      "outputs": [],
      "source": [
        "## Trying a Different Model\n",
        "\n",
        "Let's also try the PyMC model, which uses a custom Bayesian structural time series approach.\n"
      ]
    },
    {
      "cell_type": "code",
      "execution_count": null,
      "metadata": {},
      "outputs": [],
      "source": [
        "# Create and run the PyMC model\n",
        "pymc_model = ModelFactory.create_model(\n",
        "    model_type=\"pymc\",\n",
        "    data=data,\n",
        "    pre_period=pre_period,\n",
        "    post_period=post_period,\n",
        "    target_col=\"sales\",\n",
        "    date_col=\"date\",\n",
        "    covariates=[\"web_traffic\", \"ad_spend\"],\n",
        "    model_args={\n",
        "        \"num_samples\": 1000,  # Reduced for faster execution in the notebook\n",
        "        \"chains\": 2,\n",
        "        \"tune\": 500,\n",
        "        \"seasonal_period\": 7,  # Weekly seasonality\n",
        "        \"include_trend\": True,\n",
        "        \"standardize\": True\n",
        "    }\n",
        ")\n",
        "\n",
        "# Run inference\n",
        "pymc_model.run_inference()\n",
        "\n",
        "# Get summary\n",
        "pymc_summary = pymc_model.get_summary()\n",
        "\n",
        "# Print key results\n",
        "print(f\"Relative Effect: {pymc_summary['relative_effect'] * 100:.2f}%\")\n",
        "print(f\"Absolute Effect: {pymc_summary['average_effect']:.2f}\")\n",
        "print(f\"Cumulative Effect: {pymc_summary['cumulative_effect']:.2f}\")\n",
        "print(f\"p-value: {pymc_summary['p_value']:.4f}\")\n",
        "print(f\"Statistically Significant: {pymc_summary['p_value'] < 0.05}\")\n",
        "\n",
        "# Plot results\n",
        "fig = pymc_model.plot_results()\n",
        "plt.show()\n"
      ]
    },
    {
      "cell_type": "code",
      "execution_count": null,
      "metadata": {},
      "outputs": [],
      "source": [
        "# Plot posterior distribution\n",
        "fig = pymc_model.plot_posterior()\n",
        "plt.show()\n"
      ]
    },
    {
      "cell_type": "code",
      "execution_count": null,
      "metadata": {},
      "outputs": [],
      "source": [
        "## Conclusion\n",
        "\n",
        "In this tutorial, we've demonstrated how to use the Causal Impact Engine to analyze the causal effect of a marketing campaign on sales. We used both the Google CausalImpact model and a custom PyMC model to perform the analysis.\n",
        "\n",
        "The results indicate that the marketing campaign had a statistically significant positive effect on sales. The estimated effect size is around 15%, which means that sales were approximately 15% higher than they would have been without the campaign.\n",
        "\n",
        "This type of analysis is valuable for marketing attribution, as it helps separate the causal effect of marketing activities from other factors that might influence sales.\n"
      ]
    }
  ],
  "metadata": {
    "language_info": {
      "name": "python"
    }
  },
  "nbformat": 4,
  "nbformat_minor": 2
}
